{
 "cells": [
  {
   "cell_type": "code",
   "execution_count": 3,
   "id": "f6a1e7db",
   "metadata": {},
   "outputs": [],
   "source": [
    "import logging\n",
    "\n",
    "from ngram.model import MarkovChainNGramModel\n",
    "from ngram.tokenizer import HugginfaceTokenizer\n",
    "\n",
    "logging.basicConfig(\n",
    "    level=logging.INFO,\n",
    "    format=\"%(asctime)s - %(name)s - %(levelname)s - %(message)s\"\n",
    ")"
   ]
  },
  {
   "cell_type": "code",
   "execution_count": 4,
   "id": "fc7215f5",
   "metadata": {},
   "outputs": [
    {
     "name": "stderr",
     "output_type": "stream",
     "text": [
      "2025-07-28 13:44:59,877 - ngram.model - INFO - Loading model state...\n",
      "2025-07-28 13:45:28,449 - ngram.model - INFO - Model state loaded.\n"
     ]
    }
   ],
   "source": [
    "tokenizer = HugginfaceTokenizer(\"gpt2\")\n",
    "model = MarkovChainNGramModel(tokenizer)\n",
    "model.load(\"state.pt\")"
   ]
  },
  {
   "cell_type": "code",
   "execution_count": 8,
   "id": "9b3ce00a",
   "metadata": {},
   "outputs": [
    {
     "name": "stdout",
     "output_type": "stream",
     "text": [
      ", \"I made a cake! Do you want to play with me?\" Sally smiled and said, \"Of course, I can help you.\" Joe came over to Tom. She said, \"Don't be scared. I wonâ€™t get out!â€\n",
      "\n",
      "Sammy wanted to zoom like that, too. He smiled and waved as the cart rolled down the street and Spot ran around. Mum and Dad were very busy. His mom said yes, James took a deep breath and said, \"Yes, it's me! I was stuck and couldnâ€™t mean to tear it.\"\n",
      "\n",
      "She draws a long body with two eyes and two horns. She saw a butterfly and started chasing it. She ran to his chair and said, â€œLook at this! It's special like you.\" \n",
      "\n",
      "But her mommy said \"Of course! A weighty question needs more than one answer. We must think more carefully before deciding.\n"
     ]
    }
   ],
   "source": [
    "seed_text = \"And then she said\"\n",
    "generated = model.generate_text(seed_text, max_length=200)\n",
    "print(generated)"
   ]
  }
 ],
 "metadata": {
  "kernelspec": {
   "display_name": "markov-ngram-typing-model",
   "language": "python",
   "name": "python3"
  },
  "language_info": {
   "codemirror_mode": {
    "name": "ipython",
    "version": 3
   },
   "file_extension": ".py",
   "mimetype": "text/x-python",
   "name": "python",
   "nbconvert_exporter": "python",
   "pygments_lexer": "ipython3",
   "version": "3.11.1"
  }
 },
 "nbformat": 4,
 "nbformat_minor": 5
}
